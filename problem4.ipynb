{
 "cells": [
  {
   "cell_type": "code",
   "execution_count": 68,
   "metadata": {},
   "outputs": [],
   "source": [
    "from sklearn.tree import DecisionTreeClassifier, DecisionTreeRegressor\n",
    "from sklearn.model_selection import train_test_split\n",
    "from sklearn.metrics import accuracy_score\n",
    "from sklearn.preprocessing import StandardScaler\n",
    "from sklearn.tree import DecisionTreeClassifier\n",
    "from sklearn.impute import SimpleImputer\n",
    "import matplotlib.pyplot as plt\n",
    "import pandas as pd\n",
    "import numpy as np\n",
    "import time"
   ]
  },
  {
   "cell_type": "markdown",
   "metadata": {},
   "source": [
    "---"
   ]
  },
  {
   "cell_type": "markdown",
   "metadata": {},
   "source": [
    "#### CLASSIFICSTION"
   ]
  },
  {
   "cell_type": "code",
   "execution_count": 69,
   "metadata": {},
   "outputs": [],
   "source": [
    "data = pd.read_csv('./WineQT.csv')\n",
    "\n",
    "X_class = data.iloc[:, :-2].values\n",
    "Y_class = data.iloc[:, -2].values\n",
    "\n",
    "imputer = SimpleImputer(missing_values=np.nan, strategy='mean')\n",
    "imputer.fit(X_class)\n",
    "X = imputer.transform(X_class)\n",
    "\n",
    "scaler = StandardScaler()\n",
    "X_class = scaler.fit_transform(X_class)\n",
    "\n",
    "# map the labels 3,4,5 to 0 and 6,7,8 to 1\n",
    "Y_class = np.where(Y_class < 6, 0, 1)\n",
    "\n",
    "X_train_class, X_temp_class, y_train_class, y_temp_class = train_test_split(X_class, Y_class, test_size=0.2, random_state=42)\n",
    "X_val_class, X_test_class, y_val_class, y_test_class = train_test_split(X_temp_class, y_temp_class, test_size=0.5, random_state=52)"
   ]
  },
  {
   "cell_type": "markdown",
   "metadata": {},
   "source": [
    "---"
   ]
  },
  {
   "cell_type": "code",
   "execution_count": 88,
   "metadata": {},
   "outputs": [],
   "source": [
    "def mode(arr):\n",
    "    return np.bincount(arr).argmax()\n",
    "\n",
    "def r2_score(pred, val):\n",
    "    return 1 - (np.sum((pred - val)**2) / np.sum((pred - np.mean(val))**2))"
   ]
  },
  {
   "cell_type": "markdown",
   "metadata": {},
   "source": [
    "#### REGRESSION"
   ]
  },
  {
   "cell_type": "code",
   "execution_count": 71,
   "metadata": {},
   "outputs": [],
   "source": [
    "HousingData = pd.read_csv('./HousingData.csv')\n",
    "\n",
    "data_y = HousingData['MEDV']\n",
    "data_x = HousingData.drop('MEDV', axis=1)\n",
    "\n",
    "data_x = np.array(data_x)\n",
    "data_y = np.array(data_y)\n",
    "\n",
    "imputer = SimpleImputer(missing_values=np.nan, strategy='mean')\n",
    "imputer.fit(data_x)\n",
    "data_x = imputer.transform(data_x)\n",
    "\n",
    "scaler = StandardScaler()\n",
    "data_x = scaler.fit_transform(data_x)\n",
    "data_y = scaler.fit_transform(data_y.reshape(-1, 1))\n",
    "data_y = data_y.reshape(-1)\n",
    "\n",
    "Housing_x = data_x\n",
    "Housing_y = data_y\n",
    "\n",
    "X_train_reg, X_test_reg, y_train_reg, y_test_reg = train_test_split(data_x, data_y, test_size=0.2, random_state=42)\n",
    "X_train_reg, X_val_reg, y_train_reg, y_val_reg = train_test_split(X_train_reg, y_train_reg, test_size=0.5, random_state=52)"
   ]
  },
  {
   "cell_type": "markdown",
   "metadata": {},
   "source": [
    "---"
   ]
  },
  {
   "cell_type": "markdown",
   "metadata": {},
   "source": [
    "#### Random Forest"
   ]
  },
  {
   "cell_type": "code",
   "execution_count": 72,
   "metadata": {},
   "outputs": [],
   "source": [
    "def RandomForest(num_estimators, fr_samples, feature_ratio, bootstrap, X_train, y_train, X_val, y_val, type):\n",
    "\n",
    "    predictions = []\n",
    "\n",
    "    for i in range(num_estimators):\n",
    "        # sample from X_train\n",
    "        sample_indices = np.random.choice(X_train.shape[0], size= int(X_train.shape[0]*fr_samples), replace=bootstrap)\n",
    "        X_train_sample = X_train[sample_indices]\n",
    "        y_train_sample = y_train[sample_indices]\n",
    "\n",
    "        # take random subset of features\n",
    "        feature_indices = np.random.choice(X_train.shape[1], size= int(X_train.shape[1]*feature_ratio), replace=False)\n",
    "        X_train_sample = X_train_sample[:, feature_indices]\n",
    "        X_val_sample = X_val[:, feature_indices]\n",
    "\n",
    "        # train tree\n",
    "        if type == 'classification':\n",
    "            tree = DecisionTreeClassifier()\n",
    "        else:\n",
    "            tree = DecisionTreeRegressor()\n",
    "\n",
    "        tree.fit(X_train_sample, y_train_sample)\n",
    "\n",
    "        # predict on validation data\n",
    "        predictions.append(tree.predict(X_val_sample))\n",
    "\n",
    "    # voting mechanism\n",
    "    predictions = np.array(predictions)\n",
    "    \n",
    "    if type == 'classification':\n",
    "        predictions = np.apply_along_axis(mode, axis=0, arr=predictions)\n",
    "    else:\n",
    "        predictions = np.mean(predictions, axis=0)\n",
    "\n",
    "    return predictions"
   ]
  },
  {
   "cell_type": "markdown",
   "metadata": {},
   "source": [
    "#### Hyperparameter Tuning"
   ]
  },
  {
   "cell_type": "code",
   "execution_count": 73,
   "metadata": {},
   "outputs": [
    {
     "name": "stdout",
     "output_type": "stream",
     "text": [
      "Best accuracy:  0.8245614035087719\n",
      "Best num_estimators:  20\n",
      "Best fr_samples:  0.5\n",
      "Best bootstrap:  False\n",
      "Best feature_ratio:  0.25\n"
     ]
    }
   ],
   "source": [
    "num_estimators = [1, 5, 10, 20, 50, 100, 500]\n",
    "fr_samples = [0.1, 0.25, 0.5, 0.75, 1]\n",
    "bootstrap = [True, False]\n",
    "feature_ratios = [0.1, 0.25, 0.5, 0.75, 1]\n",
    "\n",
    "best_accuracy = 0\n",
    "best_num_estimators = 0\n",
    "best_fr_samples = 0\n",
    "best_bootstrap = 0\n",
    "best_feature_ratio = 0\n",
    "\n",
    "for n in num_estimators:\n",
    "    for fs in fr_samples:\n",
    "        for b in bootstrap:\n",
    "            for fr in feature_ratios:\n",
    "                predictions = RandomForest(n, fs, fr, b, X_train_class, y_train_class, X_val_class, y_val_class, 'classification')\n",
    "                accuracy = accuracy_score(y_val_class, predictions)\n",
    "                if accuracy > best_accuracy:\n",
    "                    best_accuracy = accuracy\n",
    "                    best_num_estimators = n\n",
    "                    best_fr_samples = fs\n",
    "                    best_bootstrap = b\n",
    "                    best_feature_ratio = fr\n",
    "\n",
    "print('Best accuracy: ', best_accuracy)\n",
    "print('Best num_estimators: ', best_num_estimators)\n",
    "print('Best fr_samples: ', best_fr_samples)\n",
    "print('Best bootstrap: ', best_bootstrap)\n",
    "print('Best feature_ratio: ', best_feature_ratio)"
   ]
  },
  {
   "cell_type": "markdown",
   "metadata": {},
   "source": [
    "#### Hyperparameter Tuning"
   ]
  },
  {
   "cell_type": "code",
   "execution_count": 89,
   "metadata": {},
   "outputs": [
    {
     "name": "stdout",
     "output_type": "stream",
     "text": [
      "Best r2:  0.736716686050485\n",
      "Best num_estimators:  5\n",
      "Best fr_samples:  0.75\n",
      "Best bootstrap:  True\n",
      "Best feature_ratio:  1\n"
     ]
    }
   ],
   "source": [
    "X_train_reg, X_test_reg, y_train_reg, y_test_reg = train_test_split(data_x, data_y, test_size=0.2, random_state=42)\n",
    "X_train_reg, X_val_reg, y_train_reg, y_val_reg = train_test_split(X_train_reg, y_train_reg, test_size=0.5, random_state=52)\n",
    "\n",
    "num_estimators = [1, 5, 10, 20, 50, 100, 500]\n",
    "fr_samples = [0.1, 0.25, 0.5, 0.75, 1]\n",
    "bootstrap = [True, False]\n",
    "feature_ratios = [0.1, 0.25, 0.5, 0.75, 1]\n",
    "\n",
    "best_r2 = 0\n",
    "best_num_estimators = 0\n",
    "best_fr_samples = 0\n",
    "best_bootstrap = 0\n",
    "best_feature_ratio = 0\n",
    "\n",
    "for n in num_estimators:\n",
    "    for fs in fr_samples:\n",
    "        for b in bootstrap:\n",
    "            for fr in feature_ratios:\n",
    "                predictions = RandomForest(n, fs, fr, b, X_train_reg, y_train_reg, X_val_reg, y_val_reg, 'regression')\n",
    "                r2 = r2_score(predictions, y_val_reg)\n",
    "                if r2 > best_r2:\n",
    "                    best_r2 = r2\n",
    "                    best_num_estimators = n\n",
    "                    best_fr_samples = fs\n",
    "                    best_bootstrap = b\n",
    "                    best_feature_ratio = fr\n",
    "\n",
    "print('Best r2: ', best_r2)\n",
    "print('Best num_estimators: ', best_num_estimators)\n",
    "print('Best fr_samples: ', best_fr_samples)\n",
    "print('Best bootstrap: ', best_bootstrap)\n",
    "print('Best feature_ratio: ', best_feature_ratio)"
   ]
  },
  {
   "cell_type": "markdown",
   "metadata": {},
   "source": [
    "---"
   ]
  },
  {
   "cell_type": "markdown",
   "metadata": {},
   "source": [
    "#### Decision Trees + AdaBoost"
   ]
  },
  {
   "cell_type": "code",
   "execution_count": 75,
   "metadata": {},
   "outputs": [],
   "source": [
    "def AdaBoost(num_estimators, type, X_train, y_train, X_val):\n",
    "    predictions = []\n",
    "    models = []\n",
    "    alphas = []\n",
    "    weights = np.ones(X_train.shape[0]) / X_train.shape[0]\n",
    "\n",
    "    y_train = np.array(y_train)\n",
    "    if(type == 'classification'):\n",
    "        y_train = np.where(y_train == 0, -1, 1)\n",
    "\n",
    "    for i in range(num_estimators):\n",
    "        if(type == 'classification'):\n",
    "            tree = DecisionTreeClassifier()\n",
    "        else:\n",
    "            tree = DecisionTreeRegressor()\n",
    "\n",
    "        tree.fit(X_train, y_train, sample_weight=weights)\n",
    "\n",
    "        predictions = tree.predict(X_train)\n",
    "\n",
    "        if(type == 'classification'):\n",
    "            error = np.sum(weights * (predictions != y_train))\n",
    "        else:\n",
    "            error = np.sum(weights * (predictions - y_train)**2)\n",
    "\n",
    "        alpha = 0.5* np.log((1 - error) / max(error, 1e-10))\n",
    "\n",
    "        if(type == 'classification'):\n",
    "            weights = weights * np.exp(alpha * predictions * y_train)\n",
    "        else:\n",
    "            weights = weights * np.exp(alpha * (predictions - y_train)**2)\n",
    "        weights = weights / np.sum(weights)\n",
    "\n",
    "        models.append(tree)\n",
    "        alphas.append(alpha)\n",
    "\n",
    "    predictions = np.zeros(X_val.shape[0])\n",
    "    for i in range(len(models)):\n",
    "        predictions += alphas[i] * models[i].predict(X_val)\n",
    "\n",
    "    if(type == 'classification'):\n",
    "        predictions = np.where(predictions > 0, 1, 0)\n",
    "    else:\n",
    "        predictions = predictions / np.sum(alphas)\n",
    "\n",
    "    return predictions"
   ]
  },
  {
   "cell_type": "markdown",
   "metadata": {},
   "source": [
    "#### Hyperparameter Tuning"
   ]
  },
  {
   "cell_type": "code",
   "execution_count": 76,
   "metadata": {},
   "outputs": [
    {
     "name": "stdout",
     "output_type": "stream",
     "text": [
      "Best accuracy:  0.7280701754385965\n",
      "Best num_estimators:  20\n"
     ]
    },
    {
     "data": {
      "image/png": "[encoded data removed]",
      "text/plain": [
       "<Figure size 640x480 with 1 Axes>"
      ]
     },
     "metadata": {},
     "output_type": "display_data"
    }
   ],
   "source": [
    "num_estimators = [1, 5, 10, 20, 50, 100, 500]\n",
    "\n",
    "best_accuracy = 0\n",
    "best_num_estimators = 0\n",
    "best_predictions = []\n",
    "acc = []\n",
    "times = []\n",
    "for n in num_estimators:\n",
    "    start = time.time()\n",
    "    predictions = AdaBoost(n, 'classification', X_train_class, y_train_class, X_val_class)\n",
    "    end = time.time()\n",
    "    times.append(end-start)\n",
    "    accuracy = accuracy_score(y_val_class, predictions)\n",
    "    acc.append(accuracy)\n",
    "    if accuracy > best_accuracy:\n",
    "        best_accuracy = accuracy\n",
    "        best_num_estimators = n\n",
    "        best_predictions = predictions\n",
    "\n",
    "print('Best accuracy: ', best_accuracy)\n",
    "print('Best num_estimators: ', best_num_estimators)\n",
    "\n",
    "x = np.arange(len(num_estimators))\n",
    "plt.bar(x-0.2, acc, width=0.4, label='accuracy')\n",
    "plt.bar(x+0.2, times, width=0.4, label='time')\n",
    "plt.xticks(x, num_estimators)\n",
    "plt.xlabel('num_estimators')\n",
    "plt.legend()\n",
    "plt.show()"
   ]
  },
  {
   "cell_type": "markdown",
   "metadata": {},
   "source": [
    "#### Hyperparameter Tuning"
   ]
  },
  {
   "cell_type": "code",
   "execution_count": 100,
   "metadata": {},
   "outputs": [
    {
     "name": "stdout",
     "output_type": "stream",
     "text": [
      "Best r2:  0.5028450949764545\n",
      "best_num_estimators:  1\n"
     ]
    },
    {
     "data": {
      "image/png": "[encoded data removed]",
      "text/plain": [
       "<Figure size 640x480 with 1 Axes>"
      ]
     },
     "metadata": {},
     "output_type": "display_data"
    }
   ],
   "source": [
    "X_train_reg, X_test_reg, y_train_reg, y_test_reg = train_test_split(data_x, data_y, test_size=0.2, random_state=42)\n",
    "X_train_reg, X_val_reg, y_train_reg, y_val_reg = train_test_split(X_train_reg, y_train_reg, test_size=0.5, random_state=52)\n",
    "\n",
    "num_estimators = [1, 5, 10, 20, 50, 100, 500]\n",
    "\n",
    "best_r2 = 0\n",
    "best_num_estimators = 0\n",
    "\n",
    "r2 = []\n",
    "times = []\n",
    "\n",
    "for n in num_estimators:\n",
    "    s = time.time()\n",
    "    predictions = AdaBoost(n, 'regression', X_train_reg, y_train_reg, X_val_reg)\n",
    "    e = time.time()\n",
    "    times.append(e-s)\n",
    "    r2_s = r2_score(predictions, y_val_reg)\n",
    "    r2.append(r2_s)\n",
    "    if r2_s > best_r2:\n",
    "        best_r2 = r2_s\n",
    "        best_num_estimators = n\n",
    "        \n",
    "print('Best r2: ', best_r2)\n",
    "print('best_num_estimators: ', best_num_estimators)\n",
    "\n",
    "x = np.arange(len(num_estimators))\n",
    "plt.bar(x-0.2, r2, width=0.4, label='r2')\n",
    "plt.bar(x+0.2, times, width=0.4, label='time')\n",
    "plt.xticks(x, num_estimators)\n",
    "plt.xlabel('num_estimators')\n",
    "plt.legend()\n",
    "plt.show()       "
   ]
  },
  {
   "cell_type": "markdown",
   "metadata": {},
   "source": [
    "---"
   ]
  },
  {
   "cell_type": "markdown",
   "metadata": {},
   "source": [
    "#### Gradient Boosting"
   ]
  },
  {
   "cell_type": "code",
   "execution_count": 78,
   "metadata": {},
   "outputs": [],
   "source": [
    "def GradientBoosting(num_estimators, type, X_train, y_train, X_val):\n",
    "    predictions = []\n",
    "    models = []\n",
    "    if(type=='regression'):\n",
    "        # initialize all predictions to mean of y_train\n",
    "        predictions = np.ones(X_train.shape[0]) * np.mean(y_train)\n",
    "\n",
    "    else:\n",
    "        # calculate initial log(odds)\n",
    "        initial_log_odds = np.log(np.sum(y_train) / (y_train.shape[0] - np.sum(y_train)))\n",
    "        # initialize all predictions to initial log(odds)\n",
    "        predictions = np.ones(X_train.shape[0]) * initial_log_odds\n",
    "\n",
    "    lr = 0.6\n",
    "    for i in range(num_estimators):\n",
    "        residual = y_train - predictions\n",
    "\n",
    "        if(type == 'classification'):\n",
    "            tree = DecisionTreeRegressor()\n",
    "        else:\n",
    "            tree = DecisionTreeRegressor()\n",
    "\n",
    "        tree.fit(X_train, residual)\n",
    "\n",
    "        predictions += lr * tree.predict(X_train)\n",
    "        models.append(tree)\n",
    "\n",
    "    # predict on validation data\n",
    "    if(type=='regression'):\n",
    "        # initialize all predictions to mean of y_train\n",
    "        predictions = np.ones(X_val.shape[0]) * np.mean(y_train)\n",
    "\n",
    "    else:\n",
    "        # calculate initial log(odds)\n",
    "        initial_log_odds = np.log(np.sum(y_train) / (y_train.shape[0] - np.sum(y_train)))\n",
    "        # initialize all predictions to initial log(odds)\n",
    "        predictions = np.ones(X_val.shape[0]) * initial_log_odds\n",
    "    for i in range(len(models)):\n",
    "        predictions += lr * models[i].predict(X_val)\n",
    "\n",
    "    if(type == 'classification'):\n",
    "        predictions = np.where(predictions > 0.5, 1, 0)\n",
    "\n",
    "    return predictions"
   ]
  },
  {
   "cell_type": "markdown",
   "metadata": {},
   "source": [
    "#### Hyperparameter Tuning"
   ]
  },
  {
   "cell_type": "code",
   "execution_count": 79,
   "metadata": {},
   "outputs": [
    {
     "name": "stdout",
     "output_type": "stream",
     "text": [
      "Best accuracy:  0.7280701754385965\n",
      "Best num_estimators:  1\n"
     ]
    },
    {
     "data": {
      "image/png": "[encoded data removed]",
      "text/plain": [
       "<Figure size 640x480 with 1 Axes>"
      ]
     },
     "metadata": {},
     "output_type": "display_data"
    }
   ],
   "source": [
    "num_estimators = [1, 5, 10, 20, 50, 100, 500]\n",
    "\n",
    "best_accuracy = 0\n",
    "best_num_estimators = 0\n",
    "acc = []\n",
    "times = []\n",
    "\n",
    "for n in num_estimators:\n",
    "    start = time.time()\n",
    "    predictions = GradientBoosting(n, 'classification', X_train_class, y_train_class, X_val_class)\n",
    "    end = time.time()\n",
    "    times.append(end-start)\n",
    "    accuracy = accuracy_score(y_val_class, predictions)\n",
    "    acc.append(accuracy)\n",
    "    if accuracy > best_accuracy:\n",
    "        best_accuracy = accuracy\n",
    "        best_num_estimators = n\n",
    "\n",
    "print('Best accuracy: ', best_accuracy)\n",
    "print('Best num_estimators: ', best_num_estimators)\n",
    "\n",
    "x = np.arange(len(num_estimators))\n",
    "plt.bar(x-0.2, acc, width=0.4, label='accuracy')\n",
    "plt.bar(x+0.2, times, width=0.4, label='time')\n",
    "plt.xticks(x, num_estimators)\n",
    "plt.xlabel('num_estimators')\n",
    "plt.legend()\n",
    "plt.show()"
   ]
  },
  {
   "cell_type": "markdown",
   "metadata": {},
   "source": [
    "#### Hyperparameter Tuning"
   ]
  },
  {
   "cell_type": "code",
   "execution_count": 101,
   "metadata": {},
   "outputs": [
    {
     "name": "stdout",
     "output_type": "stream",
     "text": [
      "Best r2:  0.5327774134020382\n",
      "Best num_estimators:  100\n"
     ]
    },
    {
     "data": {
      "image/png": "[encoded data removed]",
      "text/plain": [
       "<Figure size 640x480 with 1 Axes>"
      ]
     },
     "metadata": {},
     "output_type": "display_data"
    }
   ],
   "source": [
    "X_train_reg, X_test_reg, y_train_reg, y_test_reg = train_test_split(data_x, data_y, test_size=0.2, random_state=42)\n",
    "X_train_reg, X_val_reg, y_train_reg, y_val_reg = train_test_split(X_train_reg, y_train_reg, test_size=0.5, random_state=52)\n",
    "\n",
    "num_estimators = [1, 5, 10, 20, 50, 100, 500]\n",
    "\n",
    "best_r2 = 0\n",
    "best_num_estimators = 0\n",
    "r2 = []\n",
    "times = []\n",
    "\n",
    "for num_estimator in num_estimators:\n",
    "    start = time.time()\n",
    "    predictions = GradientBoosting(num_estimator, 'regression', X_train_reg, y_train_reg, X_val_reg)\n",
    "    end = time.time()\n",
    "    times.append(end-start)\n",
    "    r2_s = r2_score(predictions, y_val_reg)\n",
    "    r2.append(r2_s)\n",
    "    if r2_s > best_r2:\n",
    "        best_r2 = r2_s\n",
    "        best_num_estimators = num_estimator\n",
    "\n",
    "print('Best r2: ', best_r2)\n",
    "print('Best num_estimators: ', best_num_estimators)\n",
    "\n",
    "x = np.arange(len(num_estimators))\n",
    "plt.bar(x-0.2, r2, width=0.4, label='r2')\n",
    "plt.bar(x+0.2, times, width=0.4, label='time')\n",
    "plt.xticks(x, num_estimators)\n",
    "plt.xlabel('num_estimators')\n",
    "plt.legend()\n",
    "plt.show()"
   ]
  },
  {
   "cell_type": "markdown",
   "metadata": {},
   "source": [
    "---"
   ]
  },
  {
   "cell_type": "markdown",
   "metadata": {},
   "source": [
    "#### Random Forests vs Boosted Tress\n",
    "- When it comes to classification tasks, random forests outshine boosted trees due to their lower susceptibility to overfitting.\n",
    "- However, for regression tasks, both models exhibit comparable performance."
   ]
  },
  {
   "cell_type": "code",
   "execution_count": 81,
   "metadata": {},
   "outputs": [
    {
     "name": "stdout",
     "output_type": "stream",
     "text": [
      "Number of misclassified samples in random forest:  26\n",
      "Misclassified samples:  [ 16  18  22  23  35  41  55  58  65  69  73  80  81  86  88  91  93  94\n",
      "  97  98  99 101 103 109 110 113]\n",
      "Number of misclassified samples in AdaBoost:  34\n",
      "Misclassified samples:  [  0   3  11  16  18  22  26  35  38  40  41  46  47  51  55  58  59  65\n",
      "  69  74  76  80  81  85  88  91  92  94  96  97  98 101 103 110]\n",
      "Number of misclassified samples in Gradient Boosting:  36\n",
      "Misclassified samples:  [  0   3  11  16  18  22  26  28  35  38  40  41  46  47  51  55  58  59\n",
      "  61  65  69  74  76  80  81  85  88  91  92  94  96  97  98 101 103 110]\n"
     ]
    }
   ],
   "source": [
    "# Random Forest\n",
    "predictions = RandomForest(100, 1, 1, True, X_train_class, y_train_class, X_val_class, y_val_class, 'classification')\n",
    "misclassified_rf = np.where(predictions != y_val_class)[0]\n",
    "print('Number of misclassified samples in random forest: ', len(misclassified_rf))\n",
    "print('Misclassified samples: ', misclassified_rf)\n",
    "\n",
    "# AdaBoost\n",
    "predictions = AdaBoost(100, 'classification', X_train_class, y_train_class, X_val_class)\n",
    "misclassified_ada = np.where(predictions != y_val_class)[0]\n",
    "print('Number of misclassified samples in AdaBoost: ', len(misclassified_ada))\n",
    "print('Misclassified samples: ', misclassified_ada)\n",
    "\n",
    "# Gradient Boosting\n",
    "predictions = GradientBoosting(100, 'classification', X_train_class, y_train_class, X_val_class)\n",
    "misclassified_gb = np.where(predictions != y_val_class)[0]\n",
    "print('Number of misclassified samples in Gradient Boosting: ', len(misclassified_gb))\n",
    "print('Misclassified samples: ', misclassified_gb)"
   ]
  },
  {
   "cell_type": "code",
   "execution_count": 82,
   "metadata": {},
   "outputs": [
    {
     "name": "stdout",
     "output_type": "stream",
     "text": [
      "Number of common misclassified samples:  19\n",
      "Common misclassified samples:  [ 16  18  22  35  41  55  58  65  69  80  81  88  91  94  97  98 101 103\n",
      " 110]\n"
     ]
    }
   ],
   "source": [
    "common_mistakes = np.intersect1d(misclassified_rf, misclassified_ada)\n",
    "common_mistakes = np.intersect1d(common_mistakes, misclassified_gb)\n",
    "\n",
    "print('Number of common misclassified samples: ', len(common_mistakes))\n",
    "print('Common misclassified samples: ', common_mistakes)"
   ]
  },
  {
   "cell_type": "code",
   "execution_count": 85,
   "metadata": {},
   "outputs": [
    {
     "data": {
      "image/png": "[encoded data removed]",
      "text/plain": [
       "<Figure size 640x480 with 1 Axes>"
      ]
     },
     "metadata": {},
     "output_type": "display_data"
    }
   ],
   "source": [
    "X_train, X_val, y_train, y_val = train_test_split(X_val_class[common_mistakes], y_val_class[common_mistakes], test_size=0.2, random_state=42)\n",
    "\n",
    "# Create and train a Random Forest model\n",
    "feature_names = data.columns[:-2]\n",
    "\n",
    "model = DecisionTreeClassifier()\n",
    "model.fit(X_train, y_train)\n",
    "feature_importance = model.feature_importances_\n",
    "plt.barh(feature_names, feature_importance)\n",
    "plt.xlabel('Feature Importance')\n",
    "plt.ylabel('Features')\n",
    "plt.title('Feature Importance for Common Mistakes')\n",
    "plt.show()"
   ]
  },
  {
   "cell_type": "markdown",
   "metadata": {},
   "source": [
    "On training a Decision tree on the common mistakes made by the three models, it shows that the feature importances of alcohol and sulphates are high in these mistakes. That is the models are not being able to classify the quality of wine based on alcohol and sulphates. This is can be due to the fact the alcohol and sulphate features are not linearly separable and the decision trees are not able to capture this non-linearity."
   ]
  }
 ],
 "metadata": {
  "kernelspec": {
   "display_name": "Python 3",
   "language": "python",
   "name": "python3"
  },
  "language_info": {
   "codemirror_mode": {
    "name": "ipython",
    "version": 3
   },
   "file_extension": ".py",
   "mimetype": "text/x-python",
   "name": "python",
   "nbconvert_exporter": "python",
   "pygments_lexer": "ipython3",
   "version": "3.9.18"
  }
 },
 "nbformat": 4,
 "nbformat_minor": 2
}
